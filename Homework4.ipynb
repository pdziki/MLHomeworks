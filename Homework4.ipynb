{
 "cells": [
  {
   "cell_type": "markdown",
   "metadata": {},
   "source": [
    "### Preprocessing, one hot encoding:"
   ]
  },
  {
   "cell_type": "code",
   "execution_count": 16,
   "metadata": {},
   "outputs": [
    {
     "data": {
      "text/html": [
       "<div>\n",
       "<style scoped>\n",
       "    .dataframe tbody tr th:only-of-type {\n",
       "        vertical-align: middle;\n",
       "    }\n",
       "\n",
       "    .dataframe tbody tr th {\n",
       "        vertical-align: top;\n",
       "    }\n",
       "\n",
       "    .dataframe thead th {\n",
       "        text-align: right;\n",
       "    }\n",
       "</style>\n",
       "<table border=\"1\" class=\"dataframe\">\n",
       "  <thead>\n",
       "    <tr style=\"text-align: right;\">\n",
       "      <th></th>\n",
       "      <th>class</th>\n",
       "      <th>class_e</th>\n",
       "      <th>class_p</th>\n",
       "      <th>cap-shape_b</th>\n",
       "      <th>cap-shape_c</th>\n",
       "      <th>cap-shape_f</th>\n",
       "      <th>cap-shape_k</th>\n",
       "      <th>cap-shape_s</th>\n",
       "      <th>cap-shape_x</th>\n",
       "      <th>cap-surface_f</th>\n",
       "      <th>...</th>\n",
       "      <th>population_s</th>\n",
       "      <th>population_v</th>\n",
       "      <th>population_y</th>\n",
       "      <th>habitat    _d</th>\n",
       "      <th>habitat    _g</th>\n",
       "      <th>habitat    _l</th>\n",
       "      <th>habitat    _m</th>\n",
       "      <th>habitat    _p</th>\n",
       "      <th>habitat    _u</th>\n",
       "      <th>habitat    _w</th>\n",
       "    </tr>\n",
       "  </thead>\n",
       "  <tbody>\n",
       "    <tr>\n",
       "      <td>0</td>\n",
       "      <td>p</td>\n",
       "      <td>0</td>\n",
       "      <td>1</td>\n",
       "      <td>0</td>\n",
       "      <td>0</td>\n",
       "      <td>0</td>\n",
       "      <td>0</td>\n",
       "      <td>0</td>\n",
       "      <td>1</td>\n",
       "      <td>0</td>\n",
       "      <td>...</td>\n",
       "      <td>1</td>\n",
       "      <td>0</td>\n",
       "      <td>0</td>\n",
       "      <td>0</td>\n",
       "      <td>0</td>\n",
       "      <td>0</td>\n",
       "      <td>0</td>\n",
       "      <td>0</td>\n",
       "      <td>1</td>\n",
       "      <td>0</td>\n",
       "    </tr>\n",
       "    <tr>\n",
       "      <td>1</td>\n",
       "      <td>e</td>\n",
       "      <td>1</td>\n",
       "      <td>0</td>\n",
       "      <td>0</td>\n",
       "      <td>0</td>\n",
       "      <td>0</td>\n",
       "      <td>0</td>\n",
       "      <td>0</td>\n",
       "      <td>1</td>\n",
       "      <td>0</td>\n",
       "      <td>...</td>\n",
       "      <td>0</td>\n",
       "      <td>0</td>\n",
       "      <td>0</td>\n",
       "      <td>0</td>\n",
       "      <td>1</td>\n",
       "      <td>0</td>\n",
       "      <td>0</td>\n",
       "      <td>0</td>\n",
       "      <td>0</td>\n",
       "      <td>0</td>\n",
       "    </tr>\n",
       "    <tr>\n",
       "      <td>2</td>\n",
       "      <td>e</td>\n",
       "      <td>1</td>\n",
       "      <td>0</td>\n",
       "      <td>1</td>\n",
       "      <td>0</td>\n",
       "      <td>0</td>\n",
       "      <td>0</td>\n",
       "      <td>0</td>\n",
       "      <td>0</td>\n",
       "      <td>0</td>\n",
       "      <td>...</td>\n",
       "      <td>0</td>\n",
       "      <td>0</td>\n",
       "      <td>0</td>\n",
       "      <td>0</td>\n",
       "      <td>0</td>\n",
       "      <td>0</td>\n",
       "      <td>1</td>\n",
       "      <td>0</td>\n",
       "      <td>0</td>\n",
       "      <td>0</td>\n",
       "    </tr>\n",
       "    <tr>\n",
       "      <td>3</td>\n",
       "      <td>p</td>\n",
       "      <td>0</td>\n",
       "      <td>1</td>\n",
       "      <td>0</td>\n",
       "      <td>0</td>\n",
       "      <td>0</td>\n",
       "      <td>0</td>\n",
       "      <td>0</td>\n",
       "      <td>1</td>\n",
       "      <td>0</td>\n",
       "      <td>...</td>\n",
       "      <td>1</td>\n",
       "      <td>0</td>\n",
       "      <td>0</td>\n",
       "      <td>0</td>\n",
       "      <td>0</td>\n",
       "      <td>0</td>\n",
       "      <td>0</td>\n",
       "      <td>0</td>\n",
       "      <td>1</td>\n",
       "      <td>0</td>\n",
       "    </tr>\n",
       "    <tr>\n",
       "      <td>4</td>\n",
       "      <td>e</td>\n",
       "      <td>1</td>\n",
       "      <td>0</td>\n",
       "      <td>0</td>\n",
       "      <td>0</td>\n",
       "      <td>0</td>\n",
       "      <td>0</td>\n",
       "      <td>0</td>\n",
       "      <td>1</td>\n",
       "      <td>0</td>\n",
       "      <td>...</td>\n",
       "      <td>0</td>\n",
       "      <td>0</td>\n",
       "      <td>0</td>\n",
       "      <td>0</td>\n",
       "      <td>1</td>\n",
       "      <td>0</td>\n",
       "      <td>0</td>\n",
       "      <td>0</td>\n",
       "      <td>0</td>\n",
       "      <td>0</td>\n",
       "    </tr>\n",
       "  </tbody>\n",
       "</table>\n",
       "<p>5 rows × 120 columns</p>\n",
       "</div>"
      ],
      "text/plain": [
       "  class  class_e  class_p  cap-shape_b  cap-shape_c  cap-shape_f  cap-shape_k  \\\n",
       "0     p        0        1            0            0            0            0   \n",
       "1     e        1        0            0            0            0            0   \n",
       "2     e        1        0            1            0            0            0   \n",
       "3     p        0        1            0            0            0            0   \n",
       "4     e        1        0            0            0            0            0   \n",
       "\n",
       "   cap-shape_s  cap-shape_x  cap-surface_f  ...  population_s  population_v  \\\n",
       "0            0            1              0  ...             1             0   \n",
       "1            0            1              0  ...             0             0   \n",
       "2            0            0              0  ...             0             0   \n",
       "3            0            1              0  ...             1             0   \n",
       "4            0            1              0  ...             0             0   \n",
       "\n",
       "   population_y  habitat    _d  habitat    _g  habitat    _l  habitat    _m  \\\n",
       "0             0              0              0              0              0   \n",
       "1             0              0              1              0              0   \n",
       "2             0              0              0              0              1   \n",
       "3             0              0              0              0              0   \n",
       "4             0              0              1              0              0   \n",
       "\n",
       "   habitat    _p  habitat    _u  habitat    _w  \n",
       "0              0              1              0  \n",
       "1              0              0              0  \n",
       "2              0              0              0  \n",
       "3              0              1              0  \n",
       "4              0              0              0  \n",
       "\n",
       "[5 rows x 120 columns]"
      ]
     },
     "execution_count": 16,
     "metadata": {},
     "output_type": "execute_result"
    }
   ],
   "source": [
    "import pandas as pd\n",
    "from sklearn import preprocessing\n",
    "%matplotlib inline\n",
    "import matplotlib.pyplot as plt\n",
    "#plot function\n",
    "def annot(opi, x, y):\n",
    "    plt.annotate(f\"OP{opi}\", xy=(x, y), xytext=(.90*x+.1, .80*y), arrowprops=dict(facecolor='lightgray', shrink=1))\n",
    "\n",
    "df = pd.read_csv(\"C:/Users/petem/Downloads/assignment04_mushroom_dataset.csv\")\n",
    "\n",
    "dfEncode = pd.get_dummies(df)\n",
    "df = pd.concat([df['class'], dfEncode], axis=1)\n",
    "df.head()"
   ]
  },
  {
   "cell_type": "code",
   "execution_count": 17,
   "metadata": {},
   "outputs": [],
   "source": [
    "from sklearn.model_selection import train_test_split\n",
    "from sklearn.metrics import confusion_matrix\n",
    "from sklearn.preprocessing import StandardScaler\n",
    "from sklearn.pipeline import make_pipeline\n",
    "\n",
    "X = df.loc[:, df.columns != 'class'].values\n",
    "y = df.loc[:, df.columns == 'class'].values.ravel()\n",
    "\n",
    "X_train, X_test, y_train, y_test = train_test_split(X, y, test_size=0.2,random_state=None)"
   ]
  },
  {
   "cell_type": "markdown",
   "metadata": {},
   "source": [
    "### Logistic Regression:"
   ]
  },
  {
   "cell_type": "code",
   "execution_count": 18,
   "metadata": {},
   "outputs": [
    {
     "name": "stdout",
     "output_type": "stream",
     "text": [
      "Test Accuracy= 1.000, C=      0.20000, TPR 1.000, FPR 0.000\n",
      "Test Accuracy= 1.000, C=      0.50000, TPR 1.000, FPR 0.000\n",
      "Test Accuracy= 1.000, C=      0.80000, TPR 1.000, FPR 0.000\n",
      "Test Accuracy= 1.000, C=      1.00000, TPR 1.000, FPR 0.000\n",
      "Test Accuracy= 1.000, C=      2.00000, TPR 1.000, FPR 0.000\n",
      "Test Accuracy= 1.000, C=      5.00000, TPR 1.000, FPR 0.000\n",
      "Test Accuracy= 1.000, C=     10.00000, TPR 1.000, FPR 0.000\n",
      "Test Accuracy= 1.000, C=     20.00000, TPR 1.000, FPR 0.000\n",
      "Test Accuracy= 1.000, C=    100.00000, TPR 1.000, FPR 0.000\n"
     ]
    }
   ],
   "source": [
    "from sklearn.linear_model import LogisticRegression\n",
    "\n",
    "C = (2e-1, 0.5, 0.8, 1, 2, 5, 1e1, 2e1, 1e2)\n",
    "\n",
    "FPR, TPR = [], []\n",
    "for c in C:\n",
    "    pipe_lr = make_pipeline(StandardScaler(),\n",
    "                            LogisticRegression(random_state=14, penalty='l1', solver='liblinear', class_weight='balanced',\n",
    "                                               C=c, multi_class='auto', max_iter=10000))\n",
    "    pipe_lr.fit(X_train, y_train)\n",
    "    y_pred = pipe_lr.predict(X_test)\n",
    "    tn, fp, fn, tp = confusion_matrix(y_test, y_pred).ravel()\n",
    "    TPR += [tp/(tp+fn)]\n",
    "    FPR += [fp/(fp+tn)]\n",
    "    print(f'Test Accuracy= {pipe_lr.score(X_test, y_test):.3f}, C={c:13.5f}, TPR {TPR[-1]:.3f}, FPR {FPR[-1]:.3f}')"
   ]
  },
  {
   "cell_type": "code",
   "execution_count": 19,
   "metadata": {},
   "outputs": [
    {
     "data": {
      "image/png": "[encoded data removed]",
      "text/plain": [
       "<Figure size 432x288 with 1 Axes>"
      ]
     },
     "metadata": {
      "needs_background": "light"
     },
     "output_type": "display_data"
    }
   ],
   "source": [
    "# Sorts the points to display nicely on ROC\n",
    "FPR, TPR = zip(*sorted(zip(FPR, TPR)))\n",
    "fpr = [0.]+list(FPR)+[1.]; tpr = [0.]+list(TPR)+[1.]\n",
    "\n",
    "# Plot\n",
    "fig, ax = plt.subplots()\n",
    "plt.plot(fpr, tpr, ':', label='ROC')\n",
    "plt.scatter(FPR, TPR, 50, color='red', marker='o', label='operating points')\n",
    "plt.plot([0, 1], [0, 1], linestyle='--', color=(0.6, 0.6, 0.6), label='coin flip')\n",
    "\n",
    "# Annotate certain operating points\n",
    "annot(1, fpr[1], tpr[1])\n",
    "annot(2, fpr[4], tpr[4])\n",
    "annot(3, fpr[8], tpr[8])\n",
    "annot(4, fpr[9], tpr[9])\n",
    "\n",
    "# Labels\n",
    "plt.xlabel('False Positive Rate')\n",
    "plt.ylabel('True Positive Rate')\n",
    "plt.legend(loc='lower right')\n",
    "plt.grid()\n",
    "plt.show()"
   ]
  },
  {
   "cell_type": "markdown",
   "metadata": {},
   "source": [
    "### Support Vector Machine"
   ]
  },
  {
   "cell_type": "code",
   "execution_count": 20,
   "metadata": {},
   "outputs": [
    {
     "name": "stdout",
     "output_type": "stream",
     "text": [
      "Test Accuracy= 1.000, C=      0.00000, TPR 0.000, FPR 0.000\n",
      "Test Accuracy= 1.000, C=      0.00001, TPR 0.000, FPR 0.000\n",
      "Test Accuracy= 1.000, C=      0.00010, TPR 0.000, FPR 0.000\n",
      "Test Accuracy= 1.000, C=      0.00100, TPR 0.000, FPR 0.000\n",
      "Test Accuracy= 1.000, C=      0.10000, TPR 1.000, FPR 0.000\n",
      "Test Accuracy= 1.000, C=     10.00000, TPR 1.000, FPR 0.000\n",
      "Test Accuracy= 1.000, C=    100.00000, TPR 1.000, FPR 0.000\n",
      "Test Accuracy= 1.000, C=    300.00000, TPR 1.000, FPR 0.000\n",
      "Test Accuracy= 1.000, C=1000000.00000, TPR 1.000, FPR 0.000\n"
     ]
    }
   ],
   "source": [
    "from sklearn import svm\n",
    "from sklearn import metrics\n",
    "from sklearn.pipeline import Pipeline\n",
    "\n",
    "##A large C gives you low bias and high variance. Low bias because you penalize the cost of missclasification a lot.\n",
    "## A small C gives you higher bias and lower variance.\n",
    "\n",
    "SVM_C = [.000001, .00001, .0001, 0.001,0.1,10,100,300, 10e5]\n",
    "FPR, TPR = [], []\n",
    "for c in SVM_C:\n",
    "    clf = svm.SVC(C = c, gamma = 'auto')\n",
    "    clf.fit(X_train, y_train)\n",
    "    y_pred = clf.predict(X_test)\n",
    "    tn, fp, fn, tp = confusion_matrix(y_test, y_pred).ravel()\n",
    "    TPR += [tp/(tp+fn)]\n",
    "    FPR += [fp/(fp+tn)]\n",
    "    print(f'Test Accuracy= {pipe_lr.score(X_test, y_test):.3f}, C={c:13.5f}, TPR {TPR[-1]:.3f}, FPR {FPR[-1]:.3f}')"
   ]
  },
  {
   "cell_type": "code",
   "execution_count": 21,
   "metadata": {},
   "outputs": [
    {
     "data": {
      "image/png": "[encoded data removed]",
      "text/plain": [
       "<Figure size 432x288 with 1 Axes>"
      ]
     },
     "metadata": {
      "needs_background": "light"
     },
     "output_type": "display_data"
    }
   ],
   "source": [
    "# Sorts the points to display nicely on ROC\n",
    "FPR, TPR = zip(*sorted(zip(FPR, TPR)))\n",
    "fpr = [0.]+list(FPR)+[1.]; tpr = [0.]+list(TPR)+[1.]\n",
    "\n",
    "# Plot\n",
    "fig, ax = plt.subplots()\n",
    "plt.plot(fpr, tpr, ':', label='ROC')\n",
    "plt.scatter(FPR, TPR, 50, color='red', marker='o', label='operating points')\n",
    "plt.plot([0, 1], [0, 1], linestyle='--', color=(0.6, 0.6, 0.6), label='coin flip')\n",
    "\n",
    "# Annotate certain operating points\n",
    "annot(1, fpr[1], tpr[1])\n",
    "annot(2, fpr[4], tpr[4])\n",
    "annot(3, fpr[8], tpr[8])\n",
    "annot(4, fpr[9], tpr[9])\n",
    "\n",
    "# Labels\n",
    "plt.xlabel('False Positive Rate')\n",
    "plt.ylabel('True Positive Rate')\n",
    "plt.legend(loc='lower right')\n",
    "plt.grid()\n",
    "plt.show()"
   ]
  },
  {
   "cell_type": "markdown",
   "metadata": {},
   "source": [
    "### Linear SVM"
   ]
  },
  {
   "cell_type": "code",
   "execution_count": 22,
   "metadata": {},
   "outputs": [
    {
     "name": "stdout",
     "output_type": "stream",
     "text": [
      "Test Accuracy= 1.000, C=      0.00001, TPR 0.000, FPR 0.000\n",
      "Test Accuracy= 1.000, C=      0.00010, TPR 0.882, FPR 0.000\n",
      "Test Accuracy= 1.000, C=      0.00100, TPR 1.000, FPR 0.000\n",
      "Test Accuracy= 1.000, C=      0.10000, TPR 1.000, FPR 0.000\n",
      "Test Accuracy= 1.000, C=     10.00000, TPR 1.000, FPR 0.000\n",
      "Test Accuracy= 1.000, C=    100.00000, TPR 1.000, FPR 0.000\n",
      "Test Accuracy= 1.000, C=    300.00000, TPR 1.000, FPR 0.000\n",
      "Test Accuracy= 1.000, C=    500.00000, TPR 1.000, FPR 0.000\n",
      "Test Accuracy= 1.000, C=   1000.00000, TPR 1.000, FPR 0.000\n",
      "Test Accuracy= 1.000, C=1000000.00000, TPR 1.000, FPR 0.000\n"
     ]
    }
   ],
   "source": [
    "from sklearn import svm\n",
    "from sklearn import metrics\n",
    "from sklearn.pipeline import Pipeline\n",
    "\n",
    "##A large C gives you low bias and high variance. Low bias because you penalize the cost of missclasification a lot.\n",
    "## A small C gives you higher bias and lower variance.\n",
    "\n",
    "SVM_C = [.00001, .0001, 0.001,0.1,10,100,300, 500, 1000, 10e5]\n",
    "FPR, TPR = [], []\n",
    "for c in SVM_C:\n",
    "    clf = svm.SVC(C = c, gamma = 'auto', kernel='linear')\n",
    "    clf.fit(X_train, y_train)\n",
    "    y_pred = clf.predict(X_test)\n",
    "    tn, fp, fn, tp = confusion_matrix(y_test, y_pred).ravel()\n",
    "    TPR += [tp/(tp+fn)]\n",
    "    FPR += [fp/(fp+tn)]\n",
    "    print(f'Test Accuracy= {pipe_lr.score(X_test, y_test):.3f}, C={c:13.5f}, TPR {TPR[-1]:.3f}, FPR {FPR[-1]:.3f}')"
   ]
  },
  {
   "cell_type": "markdown",
   "metadata": {},
   "source": [
    "### Random Forrest Tree"
   ]
  },
  {
   "cell_type": "code",
   "execution_count": 23,
   "metadata": {},
   "outputs": [
    {
     "name": "stdout",
     "output_type": "stream",
     "text": [
      "Test Accuracy= 1.000, C=      2.00000, TPR 1.000, FPR 0.000\n",
      "Test Accuracy= 1.000, C=      5.00000, TPR 1.000, FPR 0.000\n",
      "Test Accuracy= 1.000, C=     10.00000, TPR 1.000, FPR 0.000\n",
      "Test Accuracy= 1.000, C=     15.00000, TPR 1.000, FPR 0.000\n",
      "Test Accuracy= 1.000, C=     20.00000, TPR 1.000, FPR 0.000\n",
      "Test Accuracy= 1.000, C=     25.00000, TPR 1.000, FPR 0.000\n",
      "Test Accuracy= 1.000, C=     50.00000, TPR 1.000, FPR 0.000\n",
      "Test Accuracy= 1.000, C=     75.00000, TPR 1.000, FPR 0.000\n",
      "Test Accuracy= 1.000, C=    100.00000, TPR 1.000, FPR 0.000\n"
     ]
    }
   ],
   "source": [
    "from sklearn.ensemble import RandomForestClassifier\n",
    "\n",
    "#vary values of k, the number of trees\n",
    "\n",
    "num_trees = [2, 5, 10, 15, 20, 25, 50, 75, 100]\n",
    "FPR, TPR = [], []\n",
    "for c in num_trees:\n",
    "    \n",
    "    forest = RandomForestClassifier(n_estimators = c)\n",
    "    forest.fit(X_train, y_train)\n",
    "    y_pred = forest.predict(X_test)\n",
    "    tn, fp, fn, tp = confusion_matrix(y_test, y_pred).ravel()\n",
    "    TPR += [tp/(tp+fn)]\n",
    "    FPR += [fp/(fp+tn)]\n",
    "    print(f'Test Accuracy= {pipe_lr.score(X_test, y_test):.3f}, C={c:13.5f}, TPR {TPR[-1]:.3f}, FPR {FPR[-1]:.3f}')"
   ]
  },
  {
   "cell_type": "code",
   "execution_count": 24,
   "metadata": {},
   "outputs": [
    {
     "data": {
      "image/png": "[encoded data removed]",
      "text/plain": [
       "<Figure size 432x288 with 1 Axes>"
      ]
     },
     "metadata": {
      "needs_background": "light"
     },
     "output_type": "display_data"
    }
   ],
   "source": [
    "# Sorts the points to display nicely on ROC\n",
    "FPR, TPR = zip(*sorted(zip(FPR, TPR)))\n",
    "fpr = [0.]+list(FPR)+[1.]; tpr = [0.]+list(TPR)+[1.]\n",
    "\n",
    "# Plot\n",
    "fig, ax = plt.subplots()\n",
    "plt.plot(fpr, tpr, ':', label='ROC')\n",
    "plt.scatter(FPR, TPR, 50, color='red', marker='o', label='operating points')\n",
    "plt.plot([0, 1], [0, 1], linestyle='--', color=(0.6, 0.6, 0.6), label='coin flip')\n",
    "\n",
    "# Annotate certain operating points\n",
    "annot(1, fpr[1], tpr[1])\n",
    "annot(2, fpr[4], tpr[4])\n",
    "annot(3, fpr[8], tpr[8])\n",
    "annot(4, fpr[9], tpr[9])\n",
    "\n",
    "# Labels\n",
    "plt.xlabel('False Positive Rate')\n",
    "plt.ylabel('True Positive Rate')\n",
    "plt.legend(loc='lower right')\n",
    "plt.grid()\n",
    "plt.show()"
   ]
  },
  {
   "cell_type": "markdown",
   "metadata": {},
   "source": [
    "### 2. [10 pts] What kind of behavior would you expect to see in Pd – Pf interaction of an ROC plot? Do you see it in yours?"
   ]
  },
  {
   "cell_type": "markdown",
   "metadata": {},
   "source": [
    "On my ROC plots, I was expecting to see a curve that hopefully curves up the x axis, along the y axis, with a peak operating point close to the point (0, 1).  However, unexpectedly, this data set yielded ROC curves that percectly fit along the X and Y axis, suggesting the models perfectly fit the data, which is confirmed by the printed model accuracy, TPR, and FPR.  I assume the data set is one that is very easy to fit, and most real world data sets are not nearly this easy to fit and predict.  Additonally, I would've thought varying the hyperparameters may tweak accuracy results, however, this was not the case, as across the board, no matter the hyperparameters, the models easily fit and predicted the data."
   ]
  },
  {
   "cell_type": "markdown",
   "metadata": {},
   "source": [
    "### 3. [20 pts] From the ROC plot that you created make a selection of the classifier and hyperparameter setting for this problem. Note that we are classifying mushrooms so your conclusion might be subjective but has to be supported by your findings."
   ]
  },
  {
   "cell_type": "markdown",
   "metadata": {},
   "source": [
    "Of the classifiers I tested, if I had to use one, I would choose the support vector machine.  In general, SVM can be considered the least likely to overfit for a given data set.  Given that each of these models yielded perfect results, it leads me to question whether they are not general enough, and may be far too overfitted for this current data set, and thus, I believe the SVM, which has lowest risk of overfitting, is the best choice.  Additionally, I prefer the SVM model, because the model has far more options, due to the kernel trick, which allows us to select different kernels to seperate the data.  Given I think that this data may not be optimal for training, due to its ease of fitting, I think having the extra kernel methods in an SVM may be good to have for generalizing this model to real world data.  "
   ]
  }
 ],
 "metadata": {
  "kernelspec": {
   "display_name": "Python 3",
   "language": "python",
   "name": "python3"
  },
  "language_info": {
   "codemirror_mode": {
    "name": "ipython",
    "version": 3
   },
   "file_extension": ".py",
   "mimetype": "text/x-python",
   "name": "python",
   "nbconvert_exporter": "python",
   "pygments_lexer": "ipython3",
   "version": "3.7.4"
  }
 },
 "nbformat": 4,
 "nbformat_minor": 2
}
