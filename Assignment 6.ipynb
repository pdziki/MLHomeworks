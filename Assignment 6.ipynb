{
 "cells": [
  {
   "cell_type": "markdown",
   "metadata": {},
   "source": [
    "### Continuing to the previous machine learning problem, let's get back to the pre-processed dataset Suicide Rates Overview 1985 to 2016 file. We would like to have a machine learning model to predict the suicide rate or even more explanatory target variables, in order to answer questions like what is the probability of a male, of this age, in that country to commit suicide. "
   ]
  },
  {
   "cell_type": "code",
   "execution_count": 28,
   "metadata": {},
   "outputs": [
    {
     "data": {
      "text/html": [
       "<div>\n",
       "<style scoped>\n",
       "    .dataframe tbody tr th:only-of-type {\n",
       "        vertical-align: middle;\n",
       "    }\n",
       "\n",
       "    .dataframe tbody tr th {\n",
       "        vertical-align: top;\n",
       "    }\n",
       "\n",
       "    .dataframe thead th {\n",
       "        text-align: right;\n",
       "    }\n",
       "</style>\n",
       "<table border=\"1\" class=\"dataframe\">\n",
       "  <thead>\n",
       "    <tr style=\"text-align: right;\">\n",
       "      <th></th>\n",
       "      <th>country</th>\n",
       "      <th>year</th>\n",
       "      <th>sex</th>\n",
       "      <th>age</th>\n",
       "      <th>suicides_no</th>\n",
       "      <th>population</th>\n",
       "      <th>suicides/100k pop</th>\n",
       "      <th>country-year</th>\n",
       "      <th>HDI for year</th>\n",
       "      <th>gdp_for_year ($)</th>\n",
       "      <th>gdp_per_capita ($)</th>\n",
       "      <th>generation</th>\n",
       "    </tr>\n",
       "  </thead>\n",
       "  <tbody>\n",
       "    <tr>\n",
       "      <td>0</td>\n",
       "      <td>Albania</td>\n",
       "      <td>1987</td>\n",
       "      <td>male</td>\n",
       "      <td>15-24 years</td>\n",
       "      <td>21</td>\n",
       "      <td>312900</td>\n",
       "      <td>6.71</td>\n",
       "      <td>Albania1987</td>\n",
       "      <td>NaN</td>\n",
       "      <td>2,156,624,900</td>\n",
       "      <td>796</td>\n",
       "      <td>Generation X</td>\n",
       "    </tr>\n",
       "    <tr>\n",
       "      <td>1</td>\n",
       "      <td>Albania</td>\n",
       "      <td>1987</td>\n",
       "      <td>male</td>\n",
       "      <td>35-54 years</td>\n",
       "      <td>16</td>\n",
       "      <td>308000</td>\n",
       "      <td>5.19</td>\n",
       "      <td>Albania1987</td>\n",
       "      <td>NaN</td>\n",
       "      <td>2,156,624,900</td>\n",
       "      <td>796</td>\n",
       "      <td>Silent</td>\n",
       "    </tr>\n",
       "    <tr>\n",
       "      <td>2</td>\n",
       "      <td>Albania</td>\n",
       "      <td>1987</td>\n",
       "      <td>female</td>\n",
       "      <td>15-24 years</td>\n",
       "      <td>14</td>\n",
       "      <td>289700</td>\n",
       "      <td>4.83</td>\n",
       "      <td>Albania1987</td>\n",
       "      <td>NaN</td>\n",
       "      <td>2,156,624,900</td>\n",
       "      <td>796</td>\n",
       "      <td>Generation X</td>\n",
       "    </tr>\n",
       "    <tr>\n",
       "      <td>3</td>\n",
       "      <td>Albania</td>\n",
       "      <td>1987</td>\n",
       "      <td>male</td>\n",
       "      <td>75+ years</td>\n",
       "      <td>1</td>\n",
       "      <td>21800</td>\n",
       "      <td>4.59</td>\n",
       "      <td>Albania1987</td>\n",
       "      <td>NaN</td>\n",
       "      <td>2,156,624,900</td>\n",
       "      <td>796</td>\n",
       "      <td>G.I. Generation</td>\n",
       "    </tr>\n",
       "    <tr>\n",
       "      <td>4</td>\n",
       "      <td>Albania</td>\n",
       "      <td>1987</td>\n",
       "      <td>male</td>\n",
       "      <td>25-34 years</td>\n",
       "      <td>9</td>\n",
       "      <td>274300</td>\n",
       "      <td>3.28</td>\n",
       "      <td>Albania1987</td>\n",
       "      <td>NaN</td>\n",
       "      <td>2,156,624,900</td>\n",
       "      <td>796</td>\n",
       "      <td>Boomers</td>\n",
       "    </tr>\n",
       "  </tbody>\n",
       "</table>\n",
       "</div>"
      ],
      "text/plain": [
       "   country  year     sex          age  suicides_no  population  \\\n",
       "0  Albania  1987    male  15-24 years           21      312900   \n",
       "1  Albania  1987    male  35-54 years           16      308000   \n",
       "2  Albania  1987  female  15-24 years           14      289700   \n",
       "3  Albania  1987    male    75+ years            1       21800   \n",
       "4  Albania  1987    male  25-34 years            9      274300   \n",
       "\n",
       "   suicides/100k pop country-year  HDI for year  gdp_for_year ($)   \\\n",
       "0               6.71  Albania1987           NaN      2,156,624,900   \n",
       "1               5.19  Albania1987           NaN      2,156,624,900   \n",
       "2               4.83  Albania1987           NaN      2,156,624,900   \n",
       "3               4.59  Albania1987           NaN      2,156,624,900   \n",
       "4               3.28  Albania1987           NaN      2,156,624,900   \n",
       "\n",
       "   gdp_per_capita ($)       generation  \n",
       "0                 796     Generation X  \n",
       "1                 796           Silent  \n",
       "2                 796     Generation X  \n",
       "3                 796  G.I. Generation  \n",
       "4                 796          Boomers  "
      ]
     },
     "execution_count": 28,
     "metadata": {},
     "output_type": "execute_result"
    }
   ],
   "source": [
    "import pandas as pd\n",
    "import numpy as np\n",
    "\n",
    "##put path to your data here to interact with the rest of this notebook\n",
    "df = pd.read_csv(\"/Users/dzikipm1/Downloads/master.csv\")\n",
    "df.head()"
   ]
  },
  {
   "cell_type": "markdown",
   "metadata": {},
   "source": [
    "### 1. [20 pts] What is the dependent variable you decided? Why?"
   ]
  },
  {
   "cell_type": "markdown",
   "metadata": {},
   "source": [
    "The dependent variable I decided on is suicides/100k pop.  This statistic is most representative of how at risk a certain individual or demographic is to suicide, and thus should be what we are predicting."
   ]
  },
  {
   "cell_type": "markdown",
   "metadata": {},
   "source": [
    "### 2. [20 pts] Set the dependent variable into two categories based on a defensible criteria. (Hint: skirts of the probability density function)"
   ]
  },
  {
   "cell_type": "code",
   "execution_count": 29,
   "metadata": {},
   "outputs": [
    {
     "data": {
      "text/plain": [
       "<matplotlib.axes._subplots.AxesSubplot at 0x1a1dc13fd0>"
      ]
     },
     "execution_count": 29,
     "metadata": {},
     "output_type": "execute_result"
    },
    {
     "data": {
      "image/png": "[encoded data removed]",
      "text/plain": [
       "<Figure size 576x576 with 1 Axes>"
      ]
     },
     "metadata": {},
     "output_type": "display_data"
    }
   ],
   "source": [
    "from scipy.stats import norm\n",
    "import seaborn as sns\n",
    "sns.set(color_codes=True)\n",
    "# settings for seaborn plot sizes\n",
    "sns.set(rc={'figure.figsize':(8,8)})\n",
    "s = pd.Series(df[\"suicides/100k pop\"])\n",
    "ax = sns.distplot(s,\n",
    "                  kde=True,\n",
    "                  color='skyblue',)\n",
    "ax.set(xlabel='Suicides/100k pop', ylabel='Frequency')\n",
    "ax"
   ]
  },
  {
   "cell_type": "markdown",
   "metadata": {},
   "source": [
    "The probability density function shows that there is a small amount of people that fall into a high rate of suicides per 100k pop.  Let's define this group as 50+ suicides per 100k pop.  By defining this cutoff, we can separate out dependent variable into 2 categories: low risk (<50) and high risk (>50).  Thus, training data will be changed to reflect this - if suicides/100k > 50, value = 1, otherwise, value = -1"
   ]
  },
  {
   "cell_type": "code",
   "execution_count": 30,
   "metadata": {},
   "outputs": [],
   "source": [
    "for index, row in df.iterrows():\n",
    "    if row['suicides/100k pop'] > 50:\n",
    "        df.loc[index, 'suicides/100k pop'] = 1\n",
    "    else:\n",
    "        df.loc[index, 'suicides/100k pop'] = -1"
   ]
  },
  {
   "cell_type": "markdown",
   "metadata": {},
   "source": [
    "### 3. [20 pts] Develop your classification model(s) to solve your defined problem.\n",
    "### 4. [20 pts] Evaluate (and report) the model performance(s) using some of the standard techniques (e.g. 80-20 split, 10-fold cross validation, etc.)"
   ]
  },
  {
   "cell_type": "code",
   "execution_count": 31,
   "metadata": {},
   "outputs": [
    {
     "data": {
      "text/html": [
       "<div>\n",
       "<style scoped>\n",
       "    .dataframe tbody tr th:only-of-type {\n",
       "        vertical-align: middle;\n",
       "    }\n",
       "\n",
       "    .dataframe tbody tr th {\n",
       "        vertical-align: top;\n",
       "    }\n",
       "\n",
       "    .dataframe thead th {\n",
       "        text-align: right;\n",
       "    }\n",
       "</style>\n",
       "<table border=\"1\" class=\"dataframe\">\n",
       "  <thead>\n",
       "    <tr style=\"text-align: right;\">\n",
       "      <th></th>\n",
       "      <th>year</th>\n",
       "      <th>suicides_no</th>\n",
       "      <th>population</th>\n",
       "      <th>gdp_for_year ($)</th>\n",
       "      <th>gdp_per_capita ($)</th>\n",
       "      <th>country</th>\n",
       "      <th>age</th>\n",
       "      <th>country-year</th>\n",
       "      <th>generation</th>\n",
       "      <th>sex</th>\n",
       "      <th>suicides/100k pop</th>\n",
       "    </tr>\n",
       "  </thead>\n",
       "  <tbody>\n",
       "    <tr>\n",
       "      <td>0</td>\n",
       "      <td>1987</td>\n",
       "      <td>21</td>\n",
       "      <td>312900</td>\n",
       "      <td>2156624900</td>\n",
       "      <td>796</td>\n",
       "      <td>0</td>\n",
       "      <td>0</td>\n",
       "      <td>0</td>\n",
       "      <td>2</td>\n",
       "      <td>1</td>\n",
       "      <td>-1</td>\n",
       "    </tr>\n",
       "    <tr>\n",
       "      <td>1</td>\n",
       "      <td>1987</td>\n",
       "      <td>16</td>\n",
       "      <td>308000</td>\n",
       "      <td>2156624900</td>\n",
       "      <td>796</td>\n",
       "      <td>0</td>\n",
       "      <td>2</td>\n",
       "      <td>0</td>\n",
       "      <td>5</td>\n",
       "      <td>1</td>\n",
       "      <td>-1</td>\n",
       "    </tr>\n",
       "    <tr>\n",
       "      <td>2</td>\n",
       "      <td>1987</td>\n",
       "      <td>14</td>\n",
       "      <td>289700</td>\n",
       "      <td>2156624900</td>\n",
       "      <td>796</td>\n",
       "      <td>0</td>\n",
       "      <td>0</td>\n",
       "      <td>0</td>\n",
       "      <td>2</td>\n",
       "      <td>0</td>\n",
       "      <td>-1</td>\n",
       "    </tr>\n",
       "    <tr>\n",
       "      <td>3</td>\n",
       "      <td>1987</td>\n",
       "      <td>1</td>\n",
       "      <td>21800</td>\n",
       "      <td>2156624900</td>\n",
       "      <td>796</td>\n",
       "      <td>0</td>\n",
       "      <td>5</td>\n",
       "      <td>0</td>\n",
       "      <td>1</td>\n",
       "      <td>1</td>\n",
       "      <td>-1</td>\n",
       "    </tr>\n",
       "    <tr>\n",
       "      <td>4</td>\n",
       "      <td>1987</td>\n",
       "      <td>9</td>\n",
       "      <td>274300</td>\n",
       "      <td>2156624900</td>\n",
       "      <td>796</td>\n",
       "      <td>0</td>\n",
       "      <td>1</td>\n",
       "      <td>0</td>\n",
       "      <td>0</td>\n",
       "      <td>1</td>\n",
       "      <td>-1</td>\n",
       "    </tr>\n",
       "    <tr>\n",
       "      <td>...</td>\n",
       "      <td>...</td>\n",
       "      <td>...</td>\n",
       "      <td>...</td>\n",
       "      <td>...</td>\n",
       "      <td>...</td>\n",
       "      <td>...</td>\n",
       "      <td>...</td>\n",
       "      <td>...</td>\n",
       "      <td>...</td>\n",
       "      <td>...</td>\n",
       "      <td>...</td>\n",
       "    </tr>\n",
       "    <tr>\n",
       "      <td>27815</td>\n",
       "      <td>2014</td>\n",
       "      <td>107</td>\n",
       "      <td>3620833</td>\n",
       "      <td>63067077179</td>\n",
       "      <td>2309</td>\n",
       "      <td>100</td>\n",
       "      <td>2</td>\n",
       "      <td>2320</td>\n",
       "      <td>2</td>\n",
       "      <td>0</td>\n",
       "      <td>-1</td>\n",
       "    </tr>\n",
       "    <tr>\n",
       "      <td>27816</td>\n",
       "      <td>2014</td>\n",
       "      <td>9</td>\n",
       "      <td>348465</td>\n",
       "      <td>63067077179</td>\n",
       "      <td>2309</td>\n",
       "      <td>100</td>\n",
       "      <td>5</td>\n",
       "      <td>2320</td>\n",
       "      <td>5</td>\n",
       "      <td>0</td>\n",
       "      <td>-1</td>\n",
       "    </tr>\n",
       "    <tr>\n",
       "      <td>27817</td>\n",
       "      <td>2014</td>\n",
       "      <td>60</td>\n",
       "      <td>2762158</td>\n",
       "      <td>63067077179</td>\n",
       "      <td>2309</td>\n",
       "      <td>100</td>\n",
       "      <td>3</td>\n",
       "      <td>2320</td>\n",
       "      <td>3</td>\n",
       "      <td>1</td>\n",
       "      <td>-1</td>\n",
       "    </tr>\n",
       "    <tr>\n",
       "      <td>27818</td>\n",
       "      <td>2014</td>\n",
       "      <td>44</td>\n",
       "      <td>2631600</td>\n",
       "      <td>63067077179</td>\n",
       "      <td>2309</td>\n",
       "      <td>100</td>\n",
       "      <td>3</td>\n",
       "      <td>2320</td>\n",
       "      <td>3</td>\n",
       "      <td>0</td>\n",
       "      <td>-1</td>\n",
       "    </tr>\n",
       "    <tr>\n",
       "      <td>27819</td>\n",
       "      <td>2014</td>\n",
       "      <td>21</td>\n",
       "      <td>1438935</td>\n",
       "      <td>63067077179</td>\n",
       "      <td>2309</td>\n",
       "      <td>100</td>\n",
       "      <td>4</td>\n",
       "      <td>2320</td>\n",
       "      <td>0</td>\n",
       "      <td>0</td>\n",
       "      <td>-1</td>\n",
       "    </tr>\n",
       "  </tbody>\n",
       "</table>\n",
       "<p>27820 rows × 11 columns</p>\n",
       "</div>"
      ],
      "text/plain": [
       "       year  suicides_no  population   gdp_for_year ($)   gdp_per_capita ($)  \\\n",
       "0      1987           21      312900          2156624900                 796   \n",
       "1      1987           16      308000          2156624900                 796   \n",
       "2      1987           14      289700          2156624900                 796   \n",
       "3      1987            1       21800          2156624900                 796   \n",
       "4      1987            9      274300          2156624900                 796   \n",
       "...     ...          ...         ...                 ...                 ...   \n",
       "27815  2014          107     3620833         63067077179                2309   \n",
       "27816  2014            9      348465         63067077179                2309   \n",
       "27817  2014           60     2762158         63067077179                2309   \n",
       "27818  2014           44     2631600         63067077179                2309   \n",
       "27819  2014           21     1438935         63067077179                2309   \n",
       "\n",
       "       country  age  country-year  generation  sex  suicides/100k pop  \n",
       "0            0    0             0           2    1                 -1  \n",
       "1            0    2             0           5    1                 -1  \n",
       "2            0    0             0           2    0                 -1  \n",
       "3            0    5             0           1    1                 -1  \n",
       "4            0    1             0           0    1                 -1  \n",
       "...        ...  ...           ...         ...  ...                ...  \n",
       "27815      100    2          2320           2    0                 -1  \n",
       "27816      100    5          2320           5    0                 -1  \n",
       "27817      100    3          2320           3    1                 -1  \n",
       "27818      100    3          2320           3    0                 -1  \n",
       "27819      100    4          2320           0    0                 -1  \n",
       "\n",
       "[27820 rows x 11 columns]"
      ]
     },
     "execution_count": 31,
     "metadata": {},
     "output_type": "execute_result"
    }
   ],
   "source": [
    "# prepare data to be trained - need to encode noin numeric values, then put back into one dataframe\n",
    "from sklearn.preprocessing import LabelEncoder\n",
    "\n",
    "X = df[['country', 'age', 'country-year', 'generation', 'sex']].values\n",
    "nonNumerical_le = LabelEncoder()\n",
    "for x in range(0, 5):\n",
    "    X[:, x] = nonNumerical_le.fit_transform(X[:,x])\n",
    "\n",
    "xDF = pd.DataFrame({'country': X[:, 0], 'age': X[:, 1], 'country-year': X[:, 2], 'generation': X[:, 3], 'sex': X[:, 4]})\n",
    "xDF['suicides/100k pop'] = df['suicides/100k pop'].astype(int)\n",
    "xDF = xDF.astype(int)\n",
    "\n",
    "df = df.drop(['country', 'sex', 'age', 'country-year', 'generation', 'suicides/100k pop', 'HDI for year'], axis = 1)\n",
    "df[' gdp_for_year ($) '] = pd.to_numeric(df [' gdp_for_year ($) '].str.replace(',', ''))\n",
    "result = df.join(xDF)\n",
    "result.fillna(0)"
   ]
  },
  {
   "cell_type": "code",
   "execution_count": 32,
   "metadata": {},
   "outputs": [],
   "source": [
    "from sklearn.model_selection import train_test_split\n",
    "#80 20 split for training vs test\n",
    "X = result.loc[:, result.columns != 'suicides/100k pop'].values\n",
    "y = result.loc[:, result.columns == 'suicides/100k pop'].values.ravel()\n",
    "\n",
    "X_train, X_test, y_train, y_test = train_test_split(X, y, test_size=0.20, random_state=None)"
   ]
  },
  {
   "cell_type": "code",
   "execution_count": 33,
   "metadata": {},
   "outputs": [],
   "source": [
    "#time to train the model - decided to use the one class SVM\n",
    "\n",
    "from sklearn.svm import OneClassSVM \n",
    "\n",
    "clf = OneClassSVM(kernel = 'linear', gamma='auto').fit(X_train, y_train)\n",
    "y_pred = clf.predict(X_test) "
   ]
  },
  {
   "cell_type": "markdown",
   "metadata": {},
   "source": [
    "### 5. [20 pts] Using your classifier model, what is the predicted category of your dependent variable for the input: \"year=2000, generation=Generation X, age=20, gender=male\"?"
   ]
  },
  {
   "cell_type": "code",
   "execution_count": 34,
   "metadata": {},
   "outputs": [
    {
     "name": "stdout",
     "output_type": "stream",
     "text": [
      "predicted  -1\n"
     ]
    }
   ],
   "source": [
    "#replace values with encoded values\n",
    "X_predict = [[2000,0,0,0,0,0,0, 0, 2, 1]]\n",
    "y_predict = clf.predict(X_predict)\n",
    "print('predicted ' ,y_predict[0])"
   ]
  },
  {
   "cell_type": "markdown",
   "metadata": {},
   "source": [
    "Predicted value 0f -1, meaning the input is predicted to be not at risk"
   ]
  },
  {
   "cell_type": "markdown",
   "metadata": {},
   "source": [
    "### 6. [20 pts bonus] Using your (perhaps a different?) model, what is the actual probability of a \"Generation X 20-year-old male living in a country with 40000 gdp_per_capita\" would commit suicide?"
   ]
  },
  {
   "cell_type": "markdown",
   "metadata": {},
   "source": [
    "This problem is different, in that it is asking for a numerical prediction, instead of a binary classification.  Thus, a different model must be used.  I will use linear regression."
   ]
  },
  {
   "cell_type": "code",
   "execution_count": 39,
   "metadata": {},
   "outputs": [
    {
     "name": "stdout",
     "output_type": "stream",
     "text": [
      "predicted suicide rate per 100k pop is:  [11.72131371]\n"
     ]
    }
   ],
   "source": [
    "from sklearn.linear_model import LinearRegression\n",
    "df = pd.read_csv(\"/Users/dzikipm1/Downloads/master.csv\")\n",
    "\n",
    "X = df[['country', 'age', 'country-year', 'generation', 'sex']].values\n",
    "nonNumerical_le = LabelEncoder()\n",
    "for x in range(0, 5):\n",
    "    X[:, x] = nonNumerical_le.fit_transform(X[:,x])\n",
    "\n",
    "xDF = pd.DataFrame({'country': X[:, 0], 'age': X[:, 1], 'country-year': X[:, 2], 'generation': X[:, 3], 'sex': X[:, 4]})\n",
    "xDF['suicides/100k pop'] = df['suicides/100k pop'].astype(int)\n",
    "xDF = xDF.astype(int)\n",
    "\n",
    "df = df.drop(['country', 'sex', 'age', 'country-year', 'generation', 'suicides/100k pop', 'HDI for year'], axis = 1)\n",
    "df[' gdp_for_year ($) '] = pd.to_numeric(df [' gdp_for_year ($) '].str.replace(',', ''))\n",
    "\n",
    "result = df.join(xDF)\n",
    "result.fillna(0)\n",
    "\n",
    "X = result.loc[:, result.columns != 'suicides/100k pop'].values\n",
    "y = result.loc[:, result.columns == 'suicides/100k pop'].values.ravel()\n",
    "\n",
    "X_train, X_test, y_train, y_test = train_test_split(X, y, test_size=0.20, random_state=None)\n",
    "\n",
    "regressor = LinearRegression()  \n",
    "regressor.fit(X_train, y_train) \n",
    "\n",
    "#replace values with encoded values\n",
    "X_predict = [[2000,0,0,0,0,0,0, 0, 2, 1]]\n",
    "y_predict = regressor.predict(X_predict)\n",
    "print(\"predicted suicide rate per 100k pop is: \" , y_predict)"
   ]
  }
 ],
 "metadata": {
  "kernelspec": {
   "display_name": "Python 3",
   "language": "python",
   "name": "python3"
  },
  "language_info": {
   "codemirror_mode": {
    "name": "ipython",
    "version": 3
   },
   "file_extension": ".py",
   "mimetype": "text/x-python",
   "name": "python",
   "nbconvert_exporter": "python",
   "pygments_lexer": "ipython3",
   "version": "3.7.4"
  }
 },
 "nbformat": 4,
 "nbformat_minor": 2
}
